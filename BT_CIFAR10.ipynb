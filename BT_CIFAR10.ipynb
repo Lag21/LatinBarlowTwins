{
  "nbformat": 4,
  "nbformat_minor": 0,
  "metadata": {
    "colab": {
      "name": "BT-CIFAR10.ipynb",
      "provenance": []
    },
    "kernelspec": {
      "name": "python3",
      "display_name": "Python 3"
    },
    "language_info": {
      "name": "python"
    }
  },
  "cells": [
    {
      "cell_type": "markdown",
      "source": [
        "#Testing a Barlow Twins trained RESNET50 with a classifier head for CIFAR10\n",
        "For this test, we build our DNN with the RESNET50 from the Barlow Twins group as a backbone and a fully connected layer as our classifier head."
      ],
      "metadata": {
        "id": "Mox_5RrleDJg"
      }
    },
    {
      "cell_type": "code",
      "execution_count": null,
      "metadata": {
        "id": "zGWOmMwkd-Xe"
      },
      "outputs": [],
      "source": [
        "class BarlowTwins(nn.Module):\n",
        "  def __init__(self):\n",
        "    super().__init__()\n",
        "    self.backbone = torch.hub.load('facebookresearch/barlowtwins:main', 'resnet50', pretrained=True)\n",
        "    self.fc = nn.Linear(1000,10)\n",
        "\n",
        "  def forward(self, x):\n",
        "    x = self.backbone(x)\n",
        "    x = self.fc(x)\n",
        "    return x"
      ]
    },
    {
      "cell_type": "markdown",
      "source": [
        " First, we construct our Barlow Twins object. Then, we set the backbone as non-trainable."
      ],
      "metadata": {
        "id": "PShoqgnhe2-m"
      }
    },
    {
      "cell_type": "code",
      "source": [
        "BarTwModel = BarlowTwins()\n",
        "BarTwModel.backbone.requires_grad_ = False"
      ],
      "metadata": {
        "id": "H2eXQ3t6eYwu"
      },
      "execution_count": null,
      "outputs": []
    },
    {
      "cell_type": "markdown",
      "source": [
        "Setting the transforms for the train data and calling the CIFAR10 dataset."
      ],
      "metadata": {
        "id": "xZbnW-SyfB9s"
      }
    },
    {
      "cell_type": "code",
      "source": [
        "TrainTransforms = transforms.Compose([\n",
        "            transforms.RandomHorizontalFlip(),\n",
        "            transforms.ToTensor(),\n",
        "            transforms.Normalize(mean=[0.485, 0.456, 0.406], std=[0.229, 0.224, 0.225])\n",
        "        ])\n",
        "trainset = datasets.CIFAR10(root=\"data/cifar10\", train=True, download=True, transform=TrainTransforms)"
      ],
      "metadata": {
        "id": "dcsWGISAeflG"
      },
      "execution_count": null,
      "outputs": []
    },
    {
      "cell_type": "markdown",
      "source": [
        "Building a train function to train the classifier head."
      ],
      "metadata": {
        "id": "pZbZsUVNfHuM"
      }
    },
    {
      "cell_type": "code",
      "source": [
        "def train(model, dataloader, nepochs=1, lr=1e-3):\n",
        "    device = torch.device('cuda') if torch.cuda.is_available() else torch.device('cpu')\n",
        "    model.train()\n",
        "    optimizer = torch.optim.Adam(filter(lambda p: p.requires_grad, BarTwModel.parameters()),weight_decay=1e-5)\n",
        "    criterion = nn.CrossEntropyLoss()\n",
        "    model = model.to(device)\n",
        "    criterion = criterion.to(device)\n",
        "\n",
        "    running_loss = 0.\n",
        "    running_samples = 0\n",
        "    for epoch in range(nepochs):\n",
        "        for it, data in enumerate(dataloader):\n",
        "            ims, labels = data\n",
        "            ims = ims.to(device)\n",
        "            labels = labels.to(device)\n",
        "            optimizer.zero_grad()\n",
        "            out = model(ims)\n",
        "            loss = criterion(out, labels)\n",
        "            running_loss += loss\n",
        "            running_samples += ims.shape[0]\n",
        "\n",
        "            if it % 100 == 0:\n",
        "                print(f'ep: {epoch}, it: {it}, loss : {running_loss/running_samples:.5f}')\n",
        "                running_loss = 0.\n",
        "                running_samples = 0\n",
        "\n",
        "            loss.backward()\n",
        "            optimizer.step()"
      ],
      "metadata": {
        "id": "t-bcTt1nejiS"
      },
      "execution_count": null,
      "outputs": []
    },
    {
      "cell_type": "markdown",
      "source": [
        "Training the classifier head of the Barlow Twins model."
      ],
      "metadata": {
        "id": "_xfXW3zvfPvs"
      }
    },
    {
      "cell_type": "code",
      "source": [
        "input_shape = trainset[0][0].shape\n",
        "train_loader = torch.utils.data.DataLoader(trainset, batch_size=64)\n",
        "train(BarTwModel, train_loader, nepochs=10, lr=1e-3)"
      ],
      "metadata": {
        "id": "7tFUufmhfN2d"
      },
      "execution_count": null,
      "outputs": []
    },
    {
      "cell_type": "markdown",
      "source": [
        "Defining the classes for the CIFAR10 dataset"
      ],
      "metadata": {
        "id": "dBnkF0L1hlhr"
      }
    },
    {
      "cell_type": "code",
      "source": [
        "classes = ['airplane', 'car', 'bird','cat','deer','dog','frog','horse','ship','truck']"
      ],
      "metadata": {
        "id": "BRNaoCt0hky7"
      },
      "execution_count": null,
      "outputs": []
    },
    {
      "cell_type": "markdown",
      "source": [
        "Downloading sample images to test the classification."
      ],
      "metadata": {
        "id": "gNgnRvprhtWd"
      }
    },
    {
      "cell_type": "code",
      "source": [
        "!wget https://cdn.hswstatic.com/gif/airplane-windows.jpg -O 'test1.jpg'\n",
        "!wget https://www.irmi.com/images/default-source/article-images/aviation/boeing-737.jpg -O 'test2.jpg'\n",
        "!wget https://images.frandroid.com/wp-content/uploads/2021/11/apple-car-concept.jpg -O 'test3.jpg'\n",
        "!wget https://abcbirds.org/wp-content/uploads/2021/07/Blue-Jay-on-redbud-tree-by-Tom-Reichner_news.png -O 'test4.jpg'"
      ],
      "metadata": {
        "id": "girNYaqehrf6"
      },
      "execution_count": null,
      "outputs": []
    },
    {
      "cell_type": "markdown",
      "source": [
        "Defining the function for testing."
      ],
      "metadata": {
        "id": "ABffj1KEh1HN"
      }
    },
    {
      "cell_type": "code",
      "source": [
        "def TestModel(model,img_path):\n",
        "  device = torch.device('cuda') if torch.cuda.is_available() else torch.device('cpu')\n",
        "  showimg = cv2.imread(img_path)\n",
        "  cv2_imshow(showimg)\n",
        "  img = Image.open(img_path).convert('RGB')\n",
        "  preprocess = transforms.Compose([\n",
        "          transforms.Resize(256),\n",
        "          transforms.CenterCrop(224),\n",
        "          transforms.ToTensor(),\n",
        "          transforms.Normalize(\n",
        "          mean=[0.485, 0.456, 0.406],\n",
        "          std=[0.229, 0.224, 0.225]\n",
        "      )])\n",
        "  img = preprocess(img)\n",
        "  batch_img = torch.unsqueeze(img,0)\n",
        "  model.eval()\n",
        "  batch_img = batch_img.to(device)\n",
        "  with torch.no_grad():\n",
        "    out = model(batch_img)\n",
        "\n",
        "  out = out.cpu()\n",
        "  out = out.squeeze()\n",
        "  print(f'The classification of this image according to Barlow Twins is:{classes[torch.argmax(out).item()]}')\n",
        "  print(out)"
      ],
      "metadata": {
        "id": "VGdVcbYDh1gB"
      },
      "execution_count": null,
      "outputs": []
    },
    {
      "cell_type": "markdown",
      "source": [
        "Performing the tests."
      ],
      "metadata": {
        "id": "8gCqLFXlh6CC"
      }
    },
    {
      "cell_type": "code",
      "source": [
        "TestModel(BarTwModel, './test1.jpg')\n",
        "TestModel(BarTwModel, './test2.jpg')\n",
        "TestModel(BarTwModel, './test3.jpg')\n",
        "TestModel(BarTwModel, './test4.jpg')"
      ],
      "metadata": {
        "id": "wMzvlx45h7y-"
      },
      "execution_count": null,
      "outputs": []
    }
  ]
}